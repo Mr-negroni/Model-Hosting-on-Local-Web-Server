{
 "cells": [
  {
   "cell_type": "code",
   "execution_count": 1,
   "id": "13a29b5f",
   "metadata": {},
   "outputs": [],
   "source": [
    "import pickle"
   ]
  },
  {
   "cell_type": "code",
   "execution_count": 3,
   "id": "c0bd4c2b",
   "metadata": {},
   "outputs": [],
   "source": [
    "import pickle\n",
    "with open('log.model','rb') as f_out:\n",
    "  final_model = pickle.load(f_out)\n",
    "final_model.predict([[10,20]])"
   ]
  },
  {
   "cell_type": "code",
   "execution_count": null,
   "id": "770fcf51",
   "metadata": {},
   "outputs": [],
   "source": [
    "# 0 --> class Virginica\n",
    "# 1 --> class Setosa\n",
    "# 2  --> class Versicolor"
   ]
  },
  {
   "cell_type": "code",
   "execution_count": 4,
   "id": "f0a1847b",
   "metadata": {
    "scrolled": true
   },
   "outputs": [
    {
     "data": {
      "text/plain": [
       "Pipeline(steps=[('scaler', StandardScaler()), ('model', LogisticRegression())])"
      ]
     },
     "execution_count": 4,
     "metadata": {},
     "output_type": "execute_result"
    }
   ],
   "source": [
    "final_model"
   ]
  },
  {
   "cell_type": "code",
   "execution_count": 5,
   "id": "01039614",
   "metadata": {},
   "outputs": [
    {
     "name": "stderr",
     "output_type": "stream",
     "text": [
      "C:\\Users\\navan\\anaconda3\\lib\\site-packages\\sklearn\\base.py:450: UserWarning: X does not have valid feature names, but StandardScaler was fitted with feature names\n",
      "  warnings.warn(\n"
     ]
    },
    {
     "data": {
      "text/plain": [
       "array([2])"
      ]
     },
     "execution_count": 5,
     "metadata": {},
     "output_type": "execute_result"
    }
   ],
   "source": [
    "final_model.predict([[10,20]])"
   ]
  },
  {
   "cell_type": "code",
   "execution_count": 6,
   "id": "59c79e48",
   "metadata": {},
   "outputs": [],
   "source": [
    "import joblib \n",
    "with open('log.joblib','rb') as f_out:\n",
    "  final_model = joblib.load(f_out)"
   ]
  },
  {
   "cell_type": "code",
   "execution_count": 7,
   "id": "85098930",
   "metadata": {},
   "outputs": [
    {
     "data": {
      "text/plain": [
       "Pipeline(steps=[('scaler', StandardScaler()), ('model', LogisticRegression())])"
      ]
     },
     "execution_count": 7,
     "metadata": {},
     "output_type": "execute_result"
    }
   ],
   "source": [
    "final_model"
   ]
  },
  {
   "cell_type": "code",
   "execution_count": null,
   "id": "b1366eb4",
   "metadata": {},
   "outputs": [],
   "source": []
  }
 ],
 "metadata": {
  "kernelspec": {
   "display_name": "Python 3 (ipykernel)",
   "language": "python",
   "name": "python3"
  },
  "language_info": {
   "codemirror_mode": {
    "name": "ipython",
    "version": 3
   },
   "file_extension": ".py",
   "mimetype": "text/x-python",
   "name": "python",
   "nbconvert_exporter": "python",
   "pygments_lexer": "ipython3",
   "version": "3.9.7"
  }
 },
 "nbformat": 4,
 "nbformat_minor": 5
}
